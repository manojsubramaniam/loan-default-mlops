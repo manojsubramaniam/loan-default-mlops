{
 "cells": [
  {
   "cell_type": "code",
   "execution_count": 2,
   "id": "17e47ad0-f0cb-434b-a12b-39d61c6d9bbe",
   "metadata": {},
   "outputs": [
    {
     "name": "stdout",
     "output_type": "stream",
     "text": [
      "Does the file exist? False\n"
     ]
    }
   ],
   "source": [
    "import os\n",
    "\n",
    "# Check if the file exists\n",
    "file_path = \"/home/ubuntu/loan-default-mlops/data/raw/Dataset.csv\"\n",
    "print(\"Does the file exist?\", os.path.exists(file_path))\n"
   ]
  },
  {
   "cell_type": "code",
   "execution_count": null,
   "id": "a39a26a5-b71a-4d8d-8708-5a24bd2281c0",
   "metadata": {},
   "outputs": [],
   "source": []
  }
 ],
 "metadata": {
  "kernelspec": {
   "display_name": "Python 3 (ipykernel)",
   "language": "python",
   "name": "python3"
  },
  "language_info": {
   "codemirror_mode": {
    "name": "ipython",
    "version": 3
   },
   "file_extension": ".py",
   "mimetype": "text/x-python",
   "name": "python",
   "nbconvert_exporter": "python",
   "pygments_lexer": "ipython3",
   "version": "3.11.6"
  }
 },
 "nbformat": 4,
 "nbformat_minor": 5
}
